{
 "cells": [
  {
   "cell_type": "markdown",
   "metadata": {},
   "source": [
    "# Web Scraping using Python\n",
    "## Largest chemical producers worldwide\n",
    "_by Virginia Herrero_"
   ]
  },
  {
   "cell_type": "markdown",
   "metadata": {},
   "source": [
    "The **overall** goal of this project is to scrap from the Wikipedia website the list of largest chemical producers by sales in the year 2021. Clean, explore, analyse and visualize the data obtained. \n",
    "\n",
    "**Section 01: Web scraping**\n",
    "* Obtain the list of largest chemical producers worldwide from Wikipedia.\n",
    "\n",
    "**Section 02: Data cleaning**\n",
    "* Clean the data scraped from Wikipedia.\n",
    "* Rename columns, change data types, convert currency.\n",
    "\n",
    "**Section 03: Data exploration and analysis**\n",
    "* Null values\n",
    "* Outliers\n",
    "\n",
    "**Section 04: Data visualization**\n"
   ]
  }
 ],
 "metadata": {
  "language_info": {
   "name": "python"
  }
 },
 "nbformat": 4,
 "nbformat_minor": 2
}
